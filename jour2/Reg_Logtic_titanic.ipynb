{
 "cells": [
  {
   "cell_type": "code",
   "execution_count": null,
   "metadata": {},
   "outputs": [
    {
     "ename": "NameError",
     "evalue": "name 'X' is not defined",
     "output_type": "error",
     "traceback": [
      "\u001b[0;31m---------------------------------------------------------------------------\u001b[0m",
      "\u001b[0;31mNameError\u001b[0m                                 Traceback (most recent call last)",
      "Cell \u001b[0;32mIn[1], line 4\u001b[0m\n\u001b[1;32m      1\u001b[0m \u001b[38;5;28;01mfrom\u001b[39;00m \u001b[38;5;21;01msklearn\u001b[39;00m\u001b[38;5;21;01m.\u001b[39;00m\u001b[38;5;21;01mlinear_model\u001b[39;00m \u001b[38;5;28;01mimport\u001b[39;00m LogisticRegression\n\u001b[1;32m      2\u001b[0m logisticreg \u001b[38;5;241m=\u001b[39m LogisticRegression() \u001b[38;5;66;03m# définition du modèle de régression logistique à appliquer aux données\u001b[39;00m\n\u001b[0;32m----> 4\u001b[0m logisticreg\u001b[38;5;241m.\u001b[39mfit(\u001b[43mX\u001b[49m, y) \u001b[38;5;66;03m# estimation du modèle\u001b[39;00m\n\u001b[1;32m      5\u001b[0m y_pred \u001b[38;5;241m=\u001b[39m logisticreg\u001b[38;5;241m.\u001b[39mpredict(X) \u001b[38;5;66;03m# prédictions du modèle\u001b[39;00m\n\u001b[1;32m      6\u001b[0m MSE \u001b[38;5;241m=\u001b[39m np\u001b[38;5;241m.\u001b[39msqrt(np\u001b[38;5;241m.\u001b[39mmean((y_pred\u001b[38;5;241m-\u001b[39my)\u001b[38;5;241m*\u001b[39m\u001b[38;5;241m*\u001b[39m\u001b[38;5;241m2\u001b[39m)) \u001b[38;5;66;03m# calcul de l'erreur quadratique moyenne de la racine\u001b[39;00m\n",
      "\u001b[0;31mNameError\u001b[0m: name 'X' is not defined"
     ]
    }
   ],
   "source": [
    "from sklearn.linear_model import LogisticRegression\n",
    "\n",
    "# definition de X et y\n",
    "X = []\n",
    "y = []\n",
    "logisticreg = LogisticRegression() # définition du modèle de régression logistique à appliquer aux données\n",
    "logisticreg.fit(X, y) # estimation du modèle\n",
    "y_pred = logisticreg.predict(X) # prédictions du modèle\n",
    "MSE = np.sqrt(np.mean((y_pred-y)**2)) # calcul de l'erreur quadratique moyenne de la racine\n",
    "compare_y_ypred = pd.DataFrame() # création d'un cadre de données pour comparer les prédictions et la réalité\n",
    "compare_y_ypred['pred'] = y_pred\n",
    "compare_y_ypred['y'] = y\n",
    "logisticreg.score(X, y) # précision du modèle"
   ]
  }
 ],
 "metadata": {
  "kernelspec": {
   "display_name": "Python 3",
   "language": "python",
   "name": "python3"
  },
  "language_info": {
   "codemirror_mode": {
    "name": "ipython",
    "version": 3
   },
   "file_extension": ".py",
   "mimetype": "text/x-python",
   "name": "python",
   "nbconvert_exporter": "python",
   "pygments_lexer": "ipython3",
   "version": "3.10.15"
  }
 },
 "nbformat": 4,
 "nbformat_minor": 2
}
